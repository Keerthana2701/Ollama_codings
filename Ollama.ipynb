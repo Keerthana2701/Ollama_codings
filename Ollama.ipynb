{
 "cells": [
  {
   "cell_type": "code",
   "execution_count": 1,
   "id": "a59ac1ef",
   "metadata": {},
   "outputs": [],
   "source": [
    "import os\n",
    "from dotenv import load_dotenv\n",
    "\n"
   ]
  },
  {
   "cell_type": "code",
   "execution_count": 2,
   "id": "e0bd119b",
   "metadata": {},
   "outputs": [
    {
     "name": "stdout",
     "output_type": "stream",
     "text": [
      "Requirement already satisfied: streamlit in c:\\users\\kpuni\\anaconda3\\lib\\site-packages (from -r requirements.txt (line 1)) (1.40.1)\n",
      "Requirement already satisfied: langchain in c:\\users\\kpuni\\anaconda3\\lib\\site-packages (from -r requirements.txt (line 2)) (0.1.13)\n",
      "Requirement already satisfied: dotenv in c:\\users\\kpuni\\anaconda3\\lib\\site-packages (from -r requirements.txt (line 3)) (0.9.9)\n",
      "Requirement already satisfied: langchain-openai in c:\\users\\kpuni\\anaconda3\\lib\\site-packages (from -r requirements.txt (line 4)) (0.1.7)\n",
      "Requirement already satisfied: langchain_community in c:\\users\\kpuni\\anaconda3\\lib\\site-packages (from -r requirements.txt (line 5)) (0.0.29)\n",
      "Requirement already satisfied: faiss-cpu in c:\\users\\kpuni\\anaconda3\\lib\\site-packages (from -r requirements.txt (line 6)) (1.8.0)\n",
      "Requirement already satisfied: python-dotenv in c:\\users\\kpuni\\anaconda3\\lib\\site-packages (from dotenv->-r requirements.txt (line 3)) (1.0.1)\n",
      "Requirement already satisfied: numpy in c:\\users\\kpuni\\anaconda3\\lib\\site-packages (from faiss-cpu->-r requirements.txt (line 6)) (1.23.5)\n",
      "Requirement already satisfied: SQLAlchemy<3,>=1.4 in c:\\users\\kpuni\\anaconda3\\lib\\site-packages (from langchain->-r requirements.txt (line 2)) (1.4.7)\n",
      "Requirement already satisfied: pydantic<3,>=1 in c:\\users\\kpuni\\anaconda3\\lib\\site-packages (from langchain->-r requirements.txt (line 2)) (2.6.4)\n",
      "Requirement already satisfied: PyYAML>=5.3 in c:\\users\\kpuni\\anaconda3\\lib\\site-packages (from langchain->-r requirements.txt (line 2)) (5.4.1)\n",
      "Requirement already satisfied: langchain-core<0.2.0,>=0.1.33 in c:\\users\\kpuni\\anaconda3\\lib\\site-packages (from langchain->-r requirements.txt (line 2)) (0.1.53)\n",
      "Requirement already satisfied: requests<3,>=2 in c:\\users\\kpuni\\anaconda3\\lib\\site-packages (from langchain->-r requirements.txt (line 2)) (2.31.0)\n",
      "Requirement already satisfied: tenacity<9.0.0,>=8.1.0 in c:\\users\\kpuni\\anaconda3\\lib\\site-packages (from langchain->-r requirements.txt (line 2)) (8.1.0)\n",
      "Requirement already satisfied: async-timeout<5.0.0,>=4.0.0 in c:\\users\\kpuni\\anaconda3\\lib\\site-packages (from langchain->-r requirements.txt (line 2)) (4.0.2)\n",
      "Requirement already satisfied: langchain-text-splitters<0.1,>=0.0.1 in c:\\users\\kpuni\\anaconda3\\lib\\site-packages (from langchain->-r requirements.txt (line 2)) (0.0.1)\n",
      "Requirement already satisfied: dataclasses-json<0.7,>=0.5.7 in c:\\users\\kpuni\\anaconda3\\lib\\site-packages (from langchain->-r requirements.txt (line 2)) (0.6.4)\n",
      "Requirement already satisfied: jsonpatch<2.0,>=1.33 in c:\\users\\kpuni\\anaconda3\\lib\\site-packages (from langchain->-r requirements.txt (line 2)) (1.33)\n",
      "Requirement already satisfied: aiohttp<4.0.0,>=3.8.3 in c:\\users\\kpuni\\anaconda3\\lib\\site-packages (from langchain->-r requirements.txt (line 2)) (3.8.3)\n",
      "Requirement already satisfied: langsmith<0.2.0,>=0.1.17 in c:\\users\\kpuni\\anaconda3\\lib\\site-packages (from langchain->-r requirements.txt (line 2)) (0.1.29)\n",
      "Requirement already satisfied: aiosignal>=1.1.2 in c:\\users\\kpuni\\anaconda3\\lib\\site-packages (from aiohttp<4.0.0,>=3.8.3->langchain->-r requirements.txt (line 2)) (1.3.1)\n",
      "Requirement already satisfied: yarl<2.0,>=1.0 in c:\\users\\kpuni\\anaconda3\\lib\\site-packages (from aiohttp<4.0.0,>=3.8.3->langchain->-r requirements.txt (line 2)) (1.8.2)\n",
      "Requirement already satisfied: frozenlist>=1.1.1 in c:\\users\\kpuni\\anaconda3\\lib\\site-packages (from aiohttp<4.0.0,>=3.8.3->langchain->-r requirements.txt (line 2)) (1.3.3)\n",
      "Requirement already satisfied: attrs>=17.3.0 in c:\\users\\kpuni\\anaconda3\\lib\\site-packages (from aiohttp<4.0.0,>=3.8.3->langchain->-r requirements.txt (line 2)) (20.3.0)\n",
      "Requirement already satisfied: charset-normalizer<3.0,>=2.0 in c:\\users\\kpuni\\anaconda3\\lib\\site-packages (from aiohttp<4.0.0,>=3.8.3->langchain->-r requirements.txt (line 2)) (2.1.1)\n",
      "Requirement already satisfied: multidict<7.0,>=4.5 in c:\\users\\kpuni\\anaconda3\\lib\\site-packages (from aiohttp<4.0.0,>=3.8.3->langchain->-r requirements.txt (line 2)) (6.0.4)\n",
      "Requirement already satisfied: typing-inspect<1,>=0.4.0 in c:\\users\\kpuni\\anaconda3\\lib\\site-packages (from dataclasses-json<0.7,>=0.5.7->langchain->-r requirements.txt (line 2)) (0.9.0)\n",
      "Requirement already satisfied: marshmallow<4.0.0,>=3.18.0 in c:\\users\\kpuni\\anaconda3\\lib\\site-packages (from dataclasses-json<0.7,>=0.5.7->langchain->-r requirements.txt (line 2)) (3.21.1)\n",
      "Requirement already satisfied: jsonpointer>=1.9 in c:\\users\\kpuni\\anaconda3\\lib\\site-packages (from jsonpatch<2.0,>=1.33->langchain->-r requirements.txt (line 2)) (2.4)\n",
      "Requirement already satisfied: packaging<24.0,>=23.2 in c:\\users\\kpuni\\anaconda3\\lib\\site-packages (from langchain-core<0.2.0,>=0.1.33->langchain->-r requirements.txt (line 2)) (23.2)\n",
      "Requirement already satisfied: orjson<4.0.0,>=3.9.14 in c:\\users\\kpuni\\anaconda3\\lib\\site-packages (from langsmith<0.2.0,>=0.1.17->langchain->-r requirements.txt (line 2)) (3.9.15)\n",
      "Requirement already satisfied: annotated-types>=0.4.0 in c:\\users\\kpuni\\anaconda3\\lib\\site-packages (from pydantic<3,>=1->langchain->-r requirements.txt (line 2)) (0.6.0)\n",
      "Requirement already satisfied: typing-extensions>=4.6.1 in c:\\users\\kpuni\\anaconda3\\lib\\site-packages (from pydantic<3,>=1->langchain->-r requirements.txt (line 2)) (4.13.2)\n",
      "Requirement already satisfied: pydantic-core==2.16.3 in c:\\users\\kpuni\\anaconda3\\lib\\site-packages (from pydantic<3,>=1->langchain->-r requirements.txt (line 2)) (2.16.3)\n",
      "Requirement already satisfied: certifi>=2017.4.17 in c:\\users\\kpuni\\anaconda3\\lib\\site-packages (from requests<3,>=2->langchain->-r requirements.txt (line 2)) (2020.12.5)\n",
      "Requirement already satisfied: urllib3<3,>=1.21.1 in c:\\users\\kpuni\\anaconda3\\lib\\site-packages (from requests<3,>=2->langchain->-r requirements.txt (line 2)) (1.26.4)\n",
      "Requirement already satisfied: idna<4,>=2.5 in c:\\users\\kpuni\\anaconda3\\lib\\site-packages (from requests<3,>=2->langchain->-r requirements.txt (line 2)) (2.10)\n",
      "Requirement already satisfied: greenlet!=0.4.17 in c:\\users\\kpuni\\anaconda3\\lib\\site-packages (from SQLAlchemy<3,>=1.4->langchain->-r requirements.txt (line 2)) (1.0.0)\n",
      "Requirement already satisfied: mypy-extensions>=0.3.0 in c:\\users\\kpuni\\anaconda3\\lib\\site-packages (from typing-inspect<1,>=0.4.0->dataclasses-json<0.7,>=0.5.7->langchain->-r requirements.txt (line 2)) (0.4.3)\n",
      "Requirement already satisfied: openai<2.0.0,>=1.24.0 in c:\\users\\kpuni\\anaconda3\\lib\\site-packages (from langchain-openai->-r requirements.txt (line 4)) (1.76.0)\n",
      "Requirement already satisfied: tiktoken<1,>=0.7 in c:\\users\\kpuni\\anaconda3\\lib\\site-packages (from langchain-openai->-r requirements.txt (line 4)) (0.7.0)\n",
      "Requirement already satisfied: jiter<1,>=0.4.0 in c:\\users\\kpuni\\anaconda3\\lib\\site-packages (from openai<2.0.0,>=1.24.0->langchain-openai->-r requirements.txt (line 4)) (0.9.0)\n",
      "Requirement already satisfied: distro<2,>=1.7.0 in c:\\users\\kpuni\\anaconda3\\lib\\site-packages (from openai<2.0.0,>=1.24.0->langchain-openai->-r requirements.txt (line 4)) (1.9.0)\n",
      "Requirement already satisfied: httpx<1,>=0.23.0 in c:\\users\\kpuni\\anaconda3\\lib\\site-packages (from openai<2.0.0,>=1.24.0->langchain-openai->-r requirements.txt (line 4)) (0.27.0)\n",
      "Requirement already satisfied: sniffio in c:\\users\\kpuni\\anaconda3\\lib\\site-packages (from openai<2.0.0,>=1.24.0->langchain-openai->-r requirements.txt (line 4)) (1.2.0)\n",
      "Requirement already satisfied: tqdm>4 in c:\\users\\kpuni\\anaconda3\\lib\\site-packages (from openai<2.0.0,>=1.24.0->langchain-openai->-r requirements.txt (line 4)) (4.59.0)\n",
      "Requirement already satisfied: anyio<5,>=3.5.0 in c:\\users\\kpuni\\anaconda3\\lib\\site-packages (from openai<2.0.0,>=1.24.0->langchain-openai->-r requirements.txt (line 4)) (4.3.0)\n",
      "Requirement already satisfied: exceptiongroup>=1.0.2 in c:\\users\\kpuni\\anaconda3\\lib\\site-packages (from anyio<5,>=3.5.0->openai<2.0.0,>=1.24.0->langchain-openai->-r requirements.txt (line 4)) (1.2.0)\n",
      "Requirement already satisfied: httpcore==1.* in c:\\users\\kpuni\\anaconda3\\lib\\site-packages (from httpx<1,>=0.23.0->openai<2.0.0,>=1.24.0->langchain-openai->-r requirements.txt (line 4)) (1.0.4)\n",
      "Requirement already satisfied: h11<0.15,>=0.13 in c:\\users\\kpuni\\anaconda3\\lib\\site-packages (from httpcore==1.*->httpx<1,>=0.23.0->openai<2.0.0,>=1.24.0->langchain-openai->-r requirements.txt (line 4)) (0.14.0)\n",
      "Requirement already satisfied: regex>=2022.1.18 in c:\\users\\kpuni\\anaconda3\\lib\\site-packages (from tiktoken<1,>=0.7->langchain-openai->-r requirements.txt (line 4)) (2023.12.25)\n",
      "Requirement already satisfied: pandas<3,>=1.4.0 in c:\\users\\kpuni\\anaconda3\\lib\\site-packages (from streamlit->-r requirements.txt (line 1)) (2.0.3)\n",
      "Requirement already satisfied: pyarrow>=7.0 in c:\\users\\kpuni\\anaconda3\\lib\\site-packages (from streamlit->-r requirements.txt (line 1)) (17.0.0)\n",
      "Requirement already satisfied: protobuf<6,>=3.20 in c:\\users\\kpuni\\anaconda3\\lib\\site-packages (from streamlit->-r requirements.txt (line 1)) (3.20.3)\n",
      "Requirement already satisfied: toml<2,>=0.10.1 in c:\\users\\kpuni\\anaconda3\\lib\\site-packages (from streamlit->-r requirements.txt (line 1)) (0.10.2)\n",
      "Requirement already satisfied: altair<6,>=4.0 in c:\\users\\kpuni\\anaconda3\\lib\\site-packages (from streamlit->-r requirements.txt (line 1)) (5.4.1)\n",
      "Requirement already satisfied: cachetools<6,>=4.0 in c:\\users\\kpuni\\appdata\\roaming\\python\\python38\\site-packages (from streamlit->-r requirements.txt (line 1)) (4.2.4)\n",
      "Requirement already satisfied: gitpython!=3.1.19,<4,>=3.0.7 in c:\\users\\kpuni\\anaconda3\\lib\\site-packages (from streamlit->-r requirements.txt (line 1)) (3.1.18)\n",
      "Requirement already satisfied: click<9,>=7.0 in c:\\users\\kpuni\\anaconda3\\lib\\site-packages (from streamlit->-r requirements.txt (line 1)) (7.1.2)\n",
      "Requirement already satisfied: pillow<12,>=7.1.0 in c:\\users\\kpuni\\anaconda3\\lib\\site-packages (from streamlit->-r requirements.txt (line 1)) (8.2.0)\n",
      "Requirement already satisfied: watchdog<7,>=2.1.5 in c:\\users\\kpuni\\anaconda3\\lib\\site-packages (from streamlit->-r requirements.txt (line 1)) (4.0.2)\n",
      "Requirement already satisfied: tornado<7,>=6.0.3 in c:\\users\\kpuni\\anaconda3\\lib\\site-packages (from streamlit->-r requirements.txt (line 1)) (6.1)\n",
      "Requirement already satisfied: blinker<2,>=1.0.0 in c:\\users\\kpuni\\anaconda3\\lib\\site-packages (from streamlit->-r requirements.txt (line 1)) (1.8.2)\n",
      "Requirement already satisfied: rich<14,>=10.14.0 in c:\\users\\kpuni\\anaconda3\\lib\\site-packages (from streamlit->-r requirements.txt (line 1)) (13.9.4)\n",
      "Requirement already satisfied: pydeck<1,>=0.8.0b4 in c:\\users\\kpuni\\anaconda3\\lib\\site-packages (from streamlit->-r requirements.txt (line 1)) (0.9.1)\n",
      "Requirement already satisfied: jinja2 in c:\\users\\kpuni\\anaconda3\\lib\\site-packages (from altair<6,>=4.0->streamlit->-r requirements.txt (line 1)) (2.11.3)\n",
      "Requirement already satisfied: narwhals>=1.5.2 in c:\\users\\kpuni\\anaconda3\\lib\\site-packages (from altair<6,>=4.0->streamlit->-r requirements.txt (line 1)) (1.36.0)\n",
      "Requirement already satisfied: jsonschema>=3.0 in c:\\users\\kpuni\\anaconda3\\lib\\site-packages (from altair<6,>=4.0->streamlit->-r requirements.txt (line 1)) (3.2.0)\n",
      "Requirement already satisfied: gitdb<5,>=4.0.1 in c:\\users\\kpuni\\anaconda3\\lib\\site-packages (from gitpython!=3.1.19,<4,>=3.0.7->streamlit->-r requirements.txt (line 1)) (4.0.7)\n",
      "Requirement already satisfied: smmap<5,>=3.0.1 in c:\\users\\kpuni\\anaconda3\\lib\\site-packages (from gitdb<5,>=4.0.1->gitpython!=3.1.19,<4,>=3.0.7->streamlit->-r requirements.txt (line 1)) (4.0.0)\n",
      "Requirement already satisfied: six>=1.11.0 in c:\\users\\kpuni\\anaconda3\\lib\\site-packages (from jsonschema>=3.0->altair<6,>=4.0->streamlit->-r requirements.txt (line 1)) (1.15.0)\n",
      "Requirement already satisfied: setuptools in c:\\users\\kpuni\\anaconda3\\lib\\site-packages (from jsonschema>=3.0->altair<6,>=4.0->streamlit->-r requirements.txt (line 1)) (52.0.0.post20210125)\n",
      "Requirement already satisfied: pyrsistent>=0.14.0 in c:\\users\\kpuni\\anaconda3\\lib\\site-packages (from jsonschema>=3.0->altair<6,>=4.0->streamlit->-r requirements.txt (line 1)) (0.17.3)\n",
      "Requirement already satisfied: pytz>=2020.1 in c:\\users\\kpuni\\anaconda3\\lib\\site-packages (from pandas<3,>=1.4.0->streamlit->-r requirements.txt (line 1)) (2021.1)\n",
      "Requirement already satisfied: python-dateutil>=2.8.2 in c:\\users\\kpuni\\anaconda3\\lib\\site-packages (from pandas<3,>=1.4.0->streamlit->-r requirements.txt (line 1)) (2.9.0.post0)\n",
      "Requirement already satisfied: tzdata>=2022.1 in c:\\users\\kpuni\\anaconda3\\lib\\site-packages (from pandas<3,>=1.4.0->streamlit->-r requirements.txt (line 1)) (2025.2)\n",
      "Requirement already satisfied: MarkupSafe>=0.23 in c:\\users\\kpuni\\anaconda3\\lib\\site-packages (from jinja2->altair<6,>=4.0->streamlit->-r requirements.txt (line 1)) (1.1.1)\n",
      "Requirement already satisfied: pygments<3.0.0,>=2.13.0 in c:\\users\\kpuni\\anaconda3\\lib\\site-packages (from rich<14,>=10.14.0->streamlit->-r requirements.txt (line 1)) (2.19.1)\n",
      "Requirement already satisfied: markdown-it-py>=2.2.0 in c:\\users\\kpuni\\anaconda3\\lib\\site-packages (from rich<14,>=10.14.0->streamlit->-r requirements.txt (line 1)) (3.0.0)\n",
      "Requirement already satisfied: mdurl~=0.1 in c:\\users\\kpuni\\anaconda3\\lib\\site-packages (from markdown-it-py>=2.2.0->rich<14,>=10.14.0->streamlit->-r requirements.txt (line 1)) (0.1.2)\n",
      "Note: you may need to restart the kernel to use updated packages.\n"
     ]
    }
   ],
   "source": [
    "pip install -r requirements.txt\n"
   ]
  },
  {
   "cell_type": "code",
   "execution_count": 3,
   "id": "b6484bab",
   "metadata": {},
   "outputs": [],
   "source": [
    "from langchain_community.llms import Ollama\n",
    "import streamlit as st\n",
    "from langchain_core.prompts import ChatPromptTemplate\n",
    "from langchain_core.output_parsers import StrOutputParser"
   ]
  },
  {
   "cell_type": "markdown",
   "id": "cfe1f930",
   "metadata": {},
   "source": [
    "#### set the LANGCHAIN_API_KEY and  LANGCHAIN_PROJECT in .env file of same path"
   ]
  },
  {
   "cell_type": "code",
   "execution_count": 4,
   "id": "19b5bf95",
   "metadata": {},
   "outputs": [
    {
     "data": {
      "text/plain": [
       "True"
      ]
     },
     "execution_count": 4,
     "metadata": {},
     "output_type": "execute_result"
    }
   ],
   "source": [
    "from dotenv import load_dotenv\n",
    "load_dotenv()"
   ]
  },
  {
   "cell_type": "code",
   "execution_count": 5,
   "id": "4a99ca05",
   "metadata": {},
   "outputs": [
    {
     "name": "stdout",
     "output_type": "stream",
     "text": [
      "API KEY: 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\n",
      "PROJECT: ollamacoding\n"
     ]
    }
   ],
   "source": [
    "print(\"API KEY:\", os.getenv(\"LANGCHAIN_API_KEY\"))   \n",
    "print(\"PROJECT:\", os.getenv(\"LANGCHAIN_PROJECT\"))"
   ]
  },
  {
   "cell_type": "code",
   "execution_count": 8,
   "id": "97bf93a3",
   "metadata": {},
   "outputs": [
    {
     "name": "stderr",
     "output_type": "stream",
     "text": [
      "2025-04-29 11:29:54.592 Thread 'MainThread': missing ScriptRunContext! This warning can be ignored when running in bare mode.\n",
      "2025-04-29 11:29:54.594 Thread 'MainThread': missing ScriptRunContext! This warning can be ignored when running in bare mode.\n",
      "2025-04-29 11:29:54.595 Thread 'MainThread': missing ScriptRunContext! This warning can be ignored when running in bare mode.\n",
      "2025-04-29 11:29:54.597 Thread 'MainThread': missing ScriptRunContext! This warning can be ignored when running in bare mode.\n",
      "2025-04-29 11:29:54.598 Thread 'MainThread': missing ScriptRunContext! This warning can be ignored when running in bare mode.\n",
      "2025-04-29 11:29:54.600 Thread 'MainThread': missing ScriptRunContext! This warning can be ignored when running in bare mode.\n",
      "2025-04-29 11:29:54.601 Thread 'MainThread': missing ScriptRunContext! This warning can be ignored when running in bare mode.\n",
      "2025-04-29 11:29:54.602 Thread 'MainThread': missing ScriptRunContext! This warning can be ignored when running in bare mode.\n"
     ]
    }
   ],
   "source": [
    "## Langsmith Tracking\n",
    "os.environ[\"LANGCHAIN_API_KEY\"]=os.getenv(\"LANGCHAIN_API_KEY\")\n",
    "os.environ[\"LANGCHAIN_TRACING_V2\"]=\"true\"\n",
    "os.environ[\"LANGCHAIN_PROJECT\"]=os.getenv(\"LANGCHAIN_PROJECT\")\n",
    "\n",
    "## Prompt Template\n",
    "prompt=ChatPromptTemplate.from_messages(\n",
    "    [\n",
    "        (\"system\",\"You are a helpful assistant. Please respond to the question asked\"),\n",
    "        (\"user\",\"Question:{question}\")\n",
    "    ]\n",
    ")\n",
    "\n",
    "## streamlit framework\n",
    "st.title(\"Langchain With Gemma Model using OLLAMA\")\n",
    "input_text=st.text_input(\"Enter your question : \")\n",
    "\n",
    "\n",
    "## Ollama Llama3 model\n",
    "llm=Ollama(model=\"llama3.2:1b\")\n",
    "output_parser=StrOutputParser()\n",
    "chain=prompt|llm|output_parser\n",
    "\n",
    "if input_text:\n",
    "    st.write(chain.invoke({\"question\":input_text}))\n",
    "\n",
    "\n"
   ]
  },
  {
   "cell_type": "code",
   "execution_count": 7,
   "id": "a51a87b6",
   "metadata": {},
   "outputs": [],
   "source": [
    "### Save the script to .py and execute to use the streamlit. Stramlit doesn't work with jupyter notebook"
   ]
  }
 ],
 "metadata": {
  "kernelspec": {
   "display_name": "Python 3",
   "language": "python",
   "name": "python3"
  },
  "language_info": {
   "codemirror_mode": {
    "name": "ipython",
    "version": 3
   },
   "file_extension": ".py",
   "mimetype": "text/x-python",
   "name": "python",
   "nbconvert_exporter": "python",
   "pygments_lexer": "ipython3",
   "version": "3.8.8"
  }
 },
 "nbformat": 4,
 "nbformat_minor": 5
}
